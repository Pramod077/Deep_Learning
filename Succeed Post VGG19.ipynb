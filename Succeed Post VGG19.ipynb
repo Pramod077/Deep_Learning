{
 "cells": [
  {
   "cell_type": "code",
   "execution_count": 1,
   "id": "31076e09",
   "metadata": {},
   "outputs": [],
   "source": [
    "import numpy as np\n",
    "import tensorflow as tf\n",
    "from tensorflow import keras\n",
    "from tensorflow.keras.applications import vgg19\n",
    "from keras.preprocessing.image import load_img"
   ]
  },
  {
   "cell_type": "code",
   "execution_count": 2,
   "id": "7a00ac28",
   "metadata": {},
   "outputs": [],
   "source": [
    "base_image_path = (r'G:\\MSDS\\final thesis report\\result and conclusion\\IT_IMAGE.jpg')\n",
    "style_reference_image_path = (r'G:\\MSDS\\final thesis report\\result and conclusion\\ISS_IMAGE.jpg')\n",
    "\n",
    "    \n",
    "result_prefix = \"image_generated\"\n",
    "\n",
    "# Weights of the different loss components\n",
    "total_variation_weight = 1e-6\n",
    "style_weight = 1e-6\n",
    "content_weight = 2.5e-8\n",
    "\n",
    "# Dimensions of the generated picture.\n",
    "width, height = keras.preprocessing.image.load_img(base_image_path).size\n",
    "img_nrows = 400\n",
    "img_ncols = int(width * img_nrows / height)"
   ]
  },
  {
   "cell_type": "code",
   "execution_count": 3,
   "id": "e4460bbc",
   "metadata": {},
   "outputs": [
    {
     "data": {
      "image/jpeg": "[encoded data removed]",
      "text/plain": [
       "<IPython.core.display.Image object>"
      ]
     },
     "metadata": {},
     "output_type": "display_data"
    },
    {
     "data": {
      "image/jpeg": "[encoded data removed]",
      "text/plain": [
       "<IPython.core.display.Image object>"
      ]
     },
     "metadata": {},
     "output_type": "display_data"
    }
   ],
   "source": [
    "from IPython.display import Image, display\n",
    "\n",
    "display(Image(base_image_path))\n",
    "display(Image(style_reference_image_path))"
   ]
  },
  {
   "cell_type": "code",
   "execution_count": 4,
   "id": "141dcb11",
   "metadata": {},
   "outputs": [],
   "source": [
    "def preprocess_image(image_path):\n",
    "    # Util function to open, resize and format pictures into appropriate tensors\n",
    "    img = keras.preprocessing.image.load_img(\n",
    "        image_path, target_size=(img_nrows, img_ncols)\n",
    "    )\n",
    "    img = keras.preprocessing.image.img_to_array(img)\n",
    "    img = np.expand_dims(img, axis=0)\n",
    "    img = vgg19.preprocess_input(img)\n",
    "    return tf.convert_to_tensor(img)"
   ]
  },
  {
   "cell_type": "code",
   "execution_count": 5,
   "id": "ab9e855c",
   "metadata": {},
   "outputs": [],
   "source": [
    "def deprocess_image(x):\n",
    "    # Util function to convert a tensor into a valid image\n",
    "    x = x.reshape((img_nrows, img_ncols, 3))\n",
    "    # Remove zero-center by mean pixel\n",
    "    x[:, :, 0] += 103.939\n",
    "    x[:, :, 1] += 116.779\n",
    "    x[:, :, 2] += 123.68\n",
    "    # 'BGR'->'RGB'\n",
    "    x = x[:, :, ::-1]\n",
    "    x = np.clip(x, 0, 255).astype(\"uint8\")\n",
    "    return x"
   ]
  },
  {
   "cell_type": "code",
   "execution_count": 6,
   "id": "2220dde7",
   "metadata": {},
   "outputs": [],
   "source": [
    "# The gram matrix of an image tensor (feature-wise outer product)\n",
    "\n",
    "\n",
    "def gram_matrix(x):\n",
    "    x = tf.transpose(x, (2, 0, 1))\n",
    "    features = tf.reshape(x, (tf.shape(x)[0], -1))\n",
    "    gram = tf.matmul(features, tf.transpose(features))\n",
    "    return gram"
   ]
  },
  {
   "cell_type": "code",
   "execution_count": 7,
   "id": "e71a1ac4",
   "metadata": {},
   "outputs": [],
   "source": [
    "# The \"style loss\" is designed to maintain\n",
    "# the style of the reference image in the generated image.\n",
    "# It is based on the gram matrices (which capture style) of\n",
    "# feature maps from the style reference image\n",
    "# and from the generated image\n",
    "\n",
    "\n",
    "def style_loss(style, combination):\n",
    "    S = gram_matrix(style)\n",
    "    C = gram_matrix(combination)\n",
    "    channels = 3\n",
    "    size = img_nrows * img_ncols\n",
    "    return tf.reduce_sum(tf.square(S - C)) / (4.0 * (channels ** 2) * (size ** 2))"
   ]
  },
  {
   "cell_type": "code",
   "execution_count": 8,
   "id": "00affb89",
   "metadata": {},
   "outputs": [],
   "source": [
    "# An auxiliary loss function\n",
    "# designed to maintain the \"content\" of the\n",
    "# base image in the generated image\n",
    "\n",
    "\n",
    "def content_loss(base, combination):\n",
    "    return tf.reduce_sum(tf.square(combination - base))"
   ]
  },
  {
   "cell_type": "code",
   "execution_count": 9,
   "id": "04f44127",
   "metadata": {},
   "outputs": [],
   "source": [
    "# The 3rd loss function, total variation loss,\n",
    "# designed to keep the generated image locally coherent\n",
    "\n",
    "def total_variation_loss(x):\n",
    "    a = tf.square(\n",
    "        x[:, : img_nrows - 1, : img_ncols - 1, :] - x[:, 1:, : img_ncols - 1, :]\n",
    "    )\n",
    "    b = tf.square(\n",
    "        x[:, : img_nrows - 1, : img_ncols - 1, :] - x[:, : img_nrows - 1, 1:, :]\n",
    "    )\n",
    "    return tf.reduce_sum(tf.pow(a + b, 1.25))"
   ]
  },
  {
   "cell_type": "code",
   "execution_count": 10,
   "id": "3b4cf521",
   "metadata": {},
   "outputs": [
    {
     "name": "stdout",
     "output_type": "stream",
     "text": [
      "Model: \"vgg19\"\n",
      "_________________________________________________________________\n",
      " Layer (type)                Output Shape              Param #   \n",
      "=================================================================\n",
      " input_1 (InputLayer)        [(None, None, None, 3)]   0         \n",
      "                                                                 \n",
      " block1_conv1 (Conv2D)       (None, None, None, 64)    1792      \n",
      "                                                                 \n",
      " block1_conv2 (Conv2D)       (None, None, None, 64)    36928     \n",
      "                                                                 \n",
      " block1_pool (MaxPooling2D)  (None, None, None, 64)    0         \n",
      "                                                                 \n",
      " block2_conv1 (Conv2D)       (None, None, None, 128)   73856     \n",
      "                                                                 \n",
      " block2_conv2 (Conv2D)       (None, None, None, 128)   147584    \n",
      "                                                                 \n",
      " block2_pool (MaxPooling2D)  (None, None, None, 128)   0         \n",
      "                                                                 \n",
      " block3_conv1 (Conv2D)       (None, None, None, 256)   295168    \n",
      "                                                                 \n",
      " block3_conv2 (Conv2D)       (None, None, None, 256)   590080    \n",
      "                                                                 \n",
      " block3_conv3 (Conv2D)       (None, None, None, 256)   590080    \n",
      "                                                                 \n",
      " block3_conv4 (Conv2D)       (None, None, None, 256)   590080    \n",
      "                                                                 \n",
      " block3_pool (MaxPooling2D)  (None, None, None, 256)   0         \n",
      "                                                                 \n",
      " block4_conv1 (Conv2D)       (None, None, None, 512)   1180160   \n",
      "                                                                 \n",
      " block4_conv2 (Conv2D)       (None, None, None, 512)   2359808   \n",
      "                                                                 \n",
      " block4_conv3 (Conv2D)       (None, None, None, 512)   2359808   \n",
      "                                                                 \n",
      " block4_conv4 (Conv2D)       (None, None, None, 512)   2359808   \n",
      "                                                                 \n",
      " block4_pool (MaxPooling2D)  (None, None, None, 512)   0         \n",
      "                                                                 \n",
      " block5_conv1 (Conv2D)       (None, None, None, 512)   2359808   \n",
      "                                                                 \n",
      " block5_conv2 (Conv2D)       (None, None, None, 512)   2359808   \n",
      "                                                                 \n",
      " block5_conv3 (Conv2D)       (None, None, None, 512)   2359808   \n",
      "                                                                 \n",
      " block5_conv4 (Conv2D)       (None, None, None, 512)   2359808   \n",
      "                                                                 \n",
      " block5_pool (MaxPooling2D)  (None, None, None, 512)   0         \n",
      "                                                                 \n",
      "=================================================================\n",
      "Total params: 20,024,384\n",
      "Trainable params: 20,024,384\n",
      "Non-trainable params: 0\n",
      "_________________________________________________________________\n",
      "None\n"
     ]
    }
   ],
   "source": [
    "# Build a VGG19 model loaded with pre-trained ImageNet weights\n",
    "model = vgg19.VGG19(weights=\"imagenet\", include_top=False)\n",
    "\n",
    "# Get the symbolic outputs of each \"key\" layer (we gave them unique names).\n",
    "outputs_dict = dict([(layer.name, layer.output) for layer in model.layers])\n",
    "\n",
    "# Set up a model that returns the activation values for every layer in\n",
    "# VGG19 (as a dict).\n",
    "feature_extractor = keras.Model(inputs=model.inputs, outputs=outputs_dict)\n",
    "\n",
    "print(model.summary())"
   ]
  },
  {
   "cell_type": "code",
   "execution_count": 11,
   "id": "df385675",
   "metadata": {},
   "outputs": [],
   "source": [
    "# List of layers to use for the style loss.\n",
    "style_layer_names = [\n",
    "    \"block1_conv1\",\n",
    "    \"block2_conv1\",\n",
    "    \"block3_conv1\",\n",
    "    \"block4_conv1\",\n",
    "    \"block5_conv1\",\n",
    "]\n",
    "# The layer to use for the content loss.\n",
    "content_layer_name = \"block5_conv2\"\n",
    "\n",
    "\n",
    "def compute_loss(combination_image, base_image, style_reference_image):\n",
    "    input_tensor = tf.concat(\n",
    "        [base_image, style_reference_image, combination_image], axis=0\n",
    "    )\n",
    "    features = feature_extractor(input_tensor)\n",
    "\n",
    "    # Initialize the loss\n",
    "    loss = tf.zeros(shape=())\n",
    "\n",
    "    # Add content loss\n",
    "    layer_features = features[content_layer_name]\n",
    "    base_image_features = layer_features[0, :, :, :]\n",
    "    combination_features = layer_features[2, :, :, :]\n",
    "    loss = loss + content_weight * content_loss(\n",
    "        base_image_features, combination_features\n",
    "    )\n",
    "    # Add style loss\n",
    "    for layer_name in style_layer_names:\n",
    "        layer_features = features[layer_name]\n",
    "        style_reference_features = layer_features[1, :, :, :]\n",
    "        combination_features = layer_features[2, :, :, :]\n",
    "        sl = style_loss(style_reference_features, combination_features)\n",
    "        loss += (style_weight / len(style_layer_names)) * sl\n",
    "\n",
    "    # Add total variation loss\n",
    "    loss += total_variation_weight * total_variation_loss(combination_image)\n",
    "    return loss\n"
   ]
  },
  {
   "cell_type": "code",
   "execution_count": 12,
   "id": "22aa8914",
   "metadata": {},
   "outputs": [],
   "source": [
    "@tf.function\n",
    "def compute_loss_and_grads(combination_image, base_image, style_reference_image):\n",
    "    with tf.GradientTape() as tape:\n",
    "        loss = compute_loss(combination_image, base_image, style_reference_image)\n",
    "    grads = tape.gradient(loss, combination_image)\n",
    "    return loss, grads"
   ]
  },
  {
   "cell_type": "code",
   "execution_count": 13,
   "id": "71605087",
   "metadata": {},
   "outputs": [
    {
     "name": "stdout",
     "output_type": "stream",
     "text": [
      "Iteration 1: loss=169155.03\n",
      "Iteration 2: loss=3740910.50\n",
      "Iteration 3: loss=86134063104.00\n",
      "Iteration 4: loss=inf\n",
      "Iteration 5: loss=inf\n",
      "Iteration 6: loss=nan\n",
      "Iteration 7: loss=nan\n",
      "Iteration 8: loss=nan\n",
      "Iteration 9: loss=nan\n",
      "Iteration 10: loss=nan\n",
      "Iteration 11: loss=nan\n",
      "Iteration 12: loss=nan\n",
      "Iteration 13: loss=nan\n",
      "Iteration 14: loss=nan\n",
      "Iteration 15: loss=nan\n",
      "Iteration 16: loss=nan\n",
      "Iteration 17: loss=nan\n",
      "Iteration 18: loss=nan\n",
      "Iteration 19: loss=nan\n",
      "Iteration 20: loss=nan\n",
      "Iteration 21: loss=nan\n",
      "Iteration 22: loss=nan\n",
      "Iteration 23: loss=nan\n",
      "Iteration 24: loss=nan\n",
      "Iteration 25: loss=nan\n",
      "Iteration 26: loss=nan\n",
      "Iteration 27: loss=nan\n",
      "Iteration 28: loss=nan\n",
      "Iteration 29: loss=nan\n",
      "Iteration 30: loss=nan\n",
      "Iteration 31: loss=nan\n",
      "Iteration 32: loss=nan\n",
      "Iteration 33: loss=nan\n",
      "Iteration 34: loss=nan\n",
      "Iteration 35: loss=nan\n",
      "Iteration 36: loss=nan\n",
      "Iteration 37: loss=nan\n",
      "Iteration 38: loss=nan\n",
      "Iteration 39: loss=nan\n",
      "Iteration 40: loss=nan\n",
      "Iteration 41: loss=nan\n",
      "Iteration 42: loss=nan\n",
      "Iteration 43: loss=nan\n",
      "Iteration 44: loss=nan\n",
      "Iteration 45: loss=nan\n",
      "Iteration 46: loss=nan\n",
      "Iteration 47: loss=nan\n",
      "Iteration 48: loss=nan\n",
      "Iteration 49: loss=nan\n",
      "Iteration 50: loss=nan\n",
      "Iteration 51: loss=nan\n",
      "Iteration 52: loss=nan\n",
      "Iteration 53: loss=nan\n",
      "Iteration 54: loss=nan\n",
      "Iteration 55: loss=nan\n",
      "Iteration 56: loss=nan\n",
      "Iteration 57: loss=nan\n",
      "Iteration 58: loss=nan\n",
      "Iteration 59: loss=nan\n",
      "Iteration 60: loss=nan\n",
      "Iteration 61: loss=nan\n",
      "Iteration 62: loss=nan\n",
      "Iteration 63: loss=nan\n",
      "Iteration 64: loss=nan\n",
      "Iteration 65: loss=nan\n",
      "Iteration 66: loss=nan\n",
      "Iteration 67: loss=nan\n",
      "Iteration 68: loss=nan\n",
      "Iteration 69: loss=nan\n",
      "Iteration 70: loss=nan\n",
      "Iteration 71: loss=nan\n",
      "Iteration 72: loss=nan\n",
      "Iteration 73: loss=nan\n",
      "Iteration 74: loss=nan\n",
      "Iteration 75: loss=nan\n",
      "Iteration 76: loss=nan\n",
      "Iteration 77: loss=nan\n",
      "Iteration 78: loss=nan\n",
      "Iteration 79: loss=nan\n",
      "Iteration 80: loss=nan\n",
      "Iteration 81: loss=nan\n",
      "Iteration 82: loss=nan\n",
      "Iteration 83: loss=nan\n",
      "Iteration 84: loss=nan\n",
      "Iteration 85: loss=nan\n",
      "Iteration 86: loss=nan\n",
      "Iteration 87: loss=nan\n",
      "Iteration 88: loss=nan\n",
      "Iteration 89: loss=nan\n",
      "Iteration 90: loss=nan\n",
      "Iteration 91: loss=nan\n",
      "Iteration 92: loss=nan\n",
      "Iteration 93: loss=nan\n",
      "Iteration 94: loss=nan\n",
      "Iteration 95: loss=nan\n",
      "Iteration 96: loss=nan\n",
      "Iteration 97: loss=nan\n",
      "Iteration 98: loss=nan\n",
      "Iteration 99: loss=nan\n",
      "Iteration 100: loss=nan\n"
     ]
    }
   ],
   "source": [
    "optimizer = keras.optimizers.SGD(\n",
    "    keras.optimizers.schedules.ExponentialDecay(\n",
    "        initial_learning_rate=100.0, decay_steps=100, decay_rate=0.96\n",
    "    )\n",
    ")\n",
    "\n",
    "base_image = preprocess_image(base_image_path)\n",
    "style_reference_image = preprocess_image(style_reference_image_path)\n",
    "combination_image = tf.Variable(preprocess_image(base_image_path))\n",
    "\n",
    "iterations = 100\n",
    "for i in range(1, iterations + 1):\n",
    "    loss, grads = compute_loss_and_grads(\n",
    "        combination_image, base_image, style_reference_image\n",
    "    )\n",
    "    optimizer.apply_gradients([(grads, combination_image)])\n",
    "    print(\"Iteration %d: loss=%.2f\" % (i, loss))\n",
    "    img = deprocess_image(combination_image.numpy())\n",
    "    fname = result_prefix + \"_at_iteration_%d.png\" % i\n",
    "    keras.preprocessing.image.save_img(fname, img)"
   ]
  },
  {
   "cell_type": "code",
   "execution_count": 14,
   "id": "981ecc0a",
   "metadata": {},
   "outputs": [
    {
     "data": {
      "image/png": "[encoded data removed]",
      "text/plain": [
       "<IPython.core.display.Image object>"
      ]
     },
     "metadata": {},
     "output_type": "display_data"
    }
   ],
   "source": [
    "display(Image(result_prefix + \"_at_iteration_100.png\"))"
   ]
  },
  {
   "cell_type": "code",
   "execution_count": null,
   "id": "0c4aa7fc",
   "metadata": {},
   "outputs": [],
   "source": []
  }
 ],
 "metadata": {
  "kernelspec": {
   "display_name": "Python 3 (ipykernel)",
   "language": "python",
   "name": "python3"
  },
  "language_info": {
   "codemirror_mode": {
    "name": "ipython",
    "version": 3
   },
   "file_extension": ".py",
   "mimetype": "text/x-python",
   "name": "python",
   "nbconvert_exporter": "python",
   "pygments_lexer": "ipython3",
   "version": "3.9.13"
  }
 },
 "nbformat": 4,
 "nbformat_minor": 5
}
