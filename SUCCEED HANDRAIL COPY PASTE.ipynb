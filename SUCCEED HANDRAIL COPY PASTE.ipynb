{
 "cells": [
  {
   "cell_type": "code",
   "execution_count": 1,
   "id": "d6e580c9",
   "metadata": {},
   "outputs": [],
   "source": [
    "from PIL import Image"
   ]
  },
  {
   "cell_type": "code",
   "execution_count": 2,
   "id": "f92ea365",
   "metadata": {},
   "outputs": [],
   "source": [
    "img1 = Image.open(r'G:\\MSDS\\final thesis report\\result and conclusion\\HANDRAIL_CONTENT.jpg')\n",
    "img2 = Image.open(r'G:\\MSDS\\final thesis report\\result and conclusion\\HANDRAIL_STYLE.jpg')"
   ]
  },
  {
   "cell_type": "code",
   "execution_count": 3,
   "id": "93226afb",
   "metadata": {},
   "outputs": [],
   "source": [
    "img1.paste(img2,(190, 90))#locations can be different for different images\n",
    "#img1.save(r'G:\\MSDS\\final thesis report\\result and conclusion\\HANDRAIL_COPY_PASTE_BY_PILLOW.jpg', quality=95)\n",
    "img1.show()"
   ]
  },
  {
   "cell_type": "code",
   "execution_count": null,
   "id": "c9347ee9",
   "metadata": {},
   "outputs": [],
   "source": []
  }
 ],
 "metadata": {
  "kernelspec": {
   "display_name": "Python 3 (ipykernel)",
   "language": "python",
   "name": "python3"
  },
  "language_info": {
   "codemirror_mode": {
    "name": "ipython",
    "version": 3
   },
   "file_extension": ".py",
   "mimetype": "text/x-python",
   "name": "python",
   "nbconvert_exporter": "python",
   "pygments_lexer": "ipython3",
   "version": "3.9.13"
  }
 },
 "nbformat": 4,
 "nbformat_minor": 5
}
